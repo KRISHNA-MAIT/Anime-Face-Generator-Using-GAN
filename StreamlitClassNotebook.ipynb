{
  "cells": [
    {
      "cell_type": "markdown",
      "metadata": {
        "colab_type": "text",
        "id": "view-in-github"
      },
      "source": [
        "<a href=\"https://colab.research.google.com/github/Ramanand-Yadav/Anime-Face-Generator-Using-GAN/blob/main/StreamlitClassNotebook.ipynb\" target=\"_parent\"><img src=\"https://colab.research.google.com/assets/colab-badge.svg\" alt=\"Open In Colab\"/></a>"
      ]
    },
    {
      "cell_type": "code",
      "execution_count": null,
      "metadata": {
        "id": "yKTB4fAMqoCS"
      },
      "outputs": [],
      "source": [
        "!pip install streamlit"
      ]
    },
    {
      "cell_type": "code",
      "execution_count": null,
      "metadata": {
        "colab": {
          "base_uri": "https://localhost:8080/"
        },
        "id": "WOqLeoqEwPxb",
        "outputId": "ad766065-104e-4b35-8109-d3b45982421d"
      },
      "outputs": [
        {
          "name": "stdout",
          "output_type": "stream",
          "text": [
            "Overwriting app.py\n"
          ]
        }
      ],
      "source": [
        "%%writefile app.py\n",
        "import streamlit as st\n",
        "import pandas as pd\n",
        "import numpy as np\n",
        "\n",
        "# title \n",
        "st.title(\"we will learn\")\n",
        "\n",
        "# header\n",
        "st.header('Header')\n",
        "\n",
        "# subheader\n",
        "st.subheader(\"subheader\")\n",
        "\n",
        "# text\n",
        "st.text(\"text\")\n",
        "\n",
        "\n",
        "# input \n",
        "# text_input\n",
        "# number_input\n",
        "# WRITE SWISS \n",
        "\n",
        "name = st.text_input(\"enter your name \")\n",
        "st.write(name)\n",
        "\n",
        "number = st.number_input('Enter your age ')\n",
        "st.write(number)\n",
        "\n",
        "\n",
        "# for multiple columns\n",
        "first, last = st.columns(2)\n",
        "firstName =first.text_input(\"Enter your first name\")\n",
        "lastName = last.text_input(\"Enter your last name \")\n",
        "st.write(firstName)\n",
        "st.write(lastName)\n",
        "\n",
        "\n",
        "# area\n",
        "area = st.text_area('Enter your words')\n",
        "\n",
        "df=np.random.randn(20, 3)\n",
        "# magic\n",
        "df1 = pd.DataFrame(\n",
        "    np.random.randn(20, 3),\n",
        "    columns=['A', 'B', 'C']\n",
        ")\n",
        "# df\n",
        "st.table(df)\n",
        "# special \n",
        "df = pd.DataFrame(df)\n",
        "st.dataframe(df1.style.highlight_max(axis=0))\n",
        "\n",
        "\n",
        "\n",
        "\n",
        "\n",
        "\n",
        "\n",
        "\n",
        "\n",
        "\n",
        "\n",
        "\n",
        "\n",
        "\n",
        "\n",
        "\n",
        "\n",
        "\n"
      ]
    },
    {
      "cell_type": "code",
      "execution_count": null,
      "metadata": {
        "colab": {
          "base_uri": "https://localhost:8080/"
        },
        "id": "8-i3t1-__qP7",
        "outputId": "741de61e-b8ce-42ee-feeb-59f28d9b7b91"
      },
      "outputs": [
        {
          "name": "stdout",
          "output_type": "stream",
          "text": [
            "Overwriting app.py\n"
          ]
        }
      ],
      "source": [
        "%%writefile app.py\n",
        "import streamlit as st\n",
        "import pandas as pd\n",
        "import numpy as np  \n",
        "# graph\n",
        "df = pd.DataFrame(\n",
        "    np.random.randn(20, 3),\n",
        "    columns=['A', 'B', 'C']\n",
        ")\n",
        "\n",
        "\n",
        "# line_chart\n",
        "st.line_chart(df)\n",
        "\n",
        "\n",
        "# bar_chart\n",
        "st.bar_chart(df)\n",
        "\n",
        "\n",
        "# map\n",
        "st.map()\n",
        "\n",
        "\n",
        "img = st.file_uploader('upload your file')\n",
        "st.image(img)\n"
      ]
    },
    {
      "cell_type": "code",
      "execution_count": null,
      "metadata": {
        "colab": {
          "base_uri": "https://localhost:8080/"
        },
        "id": "UeslFuK4DkTa",
        "outputId": "8ce53cbe-ed26-4b0e-9d05-dc00483a64b8"
      },
      "outputs": [
        {
          "name": "stdout",
          "output_type": "stream",
          "text": [
            "Overwriting app.py\n"
          ]
        }
      ],
      "source": [
        "%%writefile app.py \n",
        "import pandas as pd\n",
        "import numpy as np \n",
        "import streamlit as st \n",
        "import matplotlib.pyplot as plt\n",
        "\n",
        "\n",
        "\n",
        "number = st.number_input('enter your number', min_value=0, max_value=6, value=5)\n",
        "\n",
        "\n",
        "# slelectbox \n",
        "number = st.selectbox(\"Select your lucky nunmber\", [1, 2, 3, 4, 5, 6])\n",
        "st.write(number)\n",
        "\n",
        "\n",
        "df = pd.DataFrame(\n",
        "    np.random.randn(20, 3),\n",
        "    columns=['A', 'B', 'C']\n",
        ")\n",
        "\n",
        "# checkbox\n",
        "if st.checkbox('checkbox'):\n",
        "  st.table(df)\n",
        "  \n",
        "\n",
        "\n",
        "# multiselect\n",
        "fist = st.multiselect('selcts your options', [x for x in range(10, 20)])\n",
        "# st.write(fist)\n",
        "\n",
        "# st.balloons()\n",
        "\n",
        "\n",
        "# sidebar\n",
        "st.sidebar.selectbox('How would like to connect ', ['Home', 'Email', 'Mobile Number'])\n",
        "\n",
        "df1 = pd.DataFrame({\n",
        "    \"Number\": [x for x in range(1, 10)],\n",
        "    \"Square\" :[x*x for x in range(1, 10)],\n",
        "    \"cube\":[x*x*x for x in range(1, 10)],\n",
        "    \"add10\":[x+10 for x in range(1, 10)]\n",
        "})\n",
        "# df1\n",
        "\n",
        "\n",
        "\n",
        "\n",
        "# st.balloons()\n",
        "plt.syle.use('ggplot')\n",
        "col = st.sidebar.selectbox(\"choose your columns\", df1.columns)\n",
        "plt.plot(df1['Number'], df1[col])\n",
        "st.pyplot()\n",
        "\n",
        "\n",
        "\n",
        "# import streamlit as st\n",
        "option = st.radio('Select three known variables:', ['initial velocity (u)', 'final velocity (v)', 'acceleration (a)', 'time (t)'])  \n",
        "\n",
        "\n"
      ]
    },
    {
      "cell_type": "code",
      "execution_count": null,
      "metadata": {
        "id": "srR6FVoeNtnh"
      },
      "outputs": [],
      "source": []
    },
    {
      "cell_type": "code",
      "execution_count": null,
      "metadata": {
        "id": "hNOynmKbxxDa"
      },
      "outputs": [],
      "source": [
        "# to generate link\n",
        "!streamlit run app.py --server.port 5301 &>/dev/null &"
      ]
    },
    {
      "cell_type": "code",
      "execution_count": null,
      "metadata": {
        "colab": {
          "base_uri": "https://localhost:8080/"
        },
        "id": "fkjRaxjwzD2x",
        "outputId": "6c07a42c-821b-451b-c623-69b456237c2a"
      },
      "outputs": [
        {
          "name": "stdout",
          "output_type": "stream",
          "text": [
            "nohup: appending output to 'nohup.out'\n"
          ]
        }
      ],
      "source": [
        "# \n",
        "!nohup npx localtunnel --port 5301 &"
      ]
    },
    {
      "cell_type": "code",
      "execution_count": null,
      "metadata": {
        "id": "ft1MEw63MA1o"
      },
      "outputs": [],
      "source": []
    }
  ],
  "metadata": {
    "colab": {
      "include_colab_link": true,
      "name": "StreamlitClassNotebook.ipynb",
      "provenance": []
    },
    "kernelspec": {
      "display_name": "Python 3",
      "name": "python3"
    },
    "language_info": {
      "name": "python"
    }
  },
  "nbformat": 4,
  "nbformat_minor": 0
}
